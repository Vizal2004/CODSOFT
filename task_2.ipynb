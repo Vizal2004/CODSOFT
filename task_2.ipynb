{
  "nbformat": 4,
  "nbformat_minor": 0,
  "metadata": {
    "colab": {
      "provenance": []
    },
    "kernelspec": {
      "name": "python3",
      "display_name": "Python 3"
    },
    "language_info": {
      "name": "python"
    }
  },
  "cells": [
    {
      "cell_type": "code",
      "execution_count": null,
      "metadata": {
        "id": "aQn59D1UxA30"
      },
      "outputs": [],
      "source": []
    },
    {
      "cell_type": "code",
      "execution_count": null,
      "metadata": {
        "colab": {
          "base_uri": "https://localhost:8080/"
        },
        "id": "pXxC7r4-xNiP",
        "outputId": "ef50ab0e-1a62-4e9a-9b1a-71ad1f50cc17"
      },
      "outputs": [
        {
          "output_type": "stream",
          "name": "stdout",
          "text": [
            "Welcome to the simple chatbot! You can say hello or ask about the weather.\n",
            "You: hii da\n",
            "Bot: Hi there!\n",
            "You: how are you\n",
            "Bot: I'm sorry, I don't understand that.\n",
            "You: hello\n",
            "Bot: Hi there!\n",
            "You: what is the weather today\n",
            "Bot: The weather is sunny today.\n"
          ]
        }
      ],
      "source": [
        "import random\n",
        "\n",
        "def respond_to_user_input(user_input):\n",
        "    # Convert user input to lowercase for case-insensitive matching\n",
        "    user_input = user_input.lower()\n",
        "\n",
        "    # Define some predefined responses\n",
        "    greetings = ['hello', 'hi', 'hey', 'greetings']\n",
        "    weather_inquiries = ['weather', 'forecast']\n",
        "\n",
        "    # Check user input against predefined rules\n",
        "    if any(greeting in user_input for greeting in greetings):\n",
        "        return random.choice(['Hello!', 'Hi there!', 'Hey!'])\n",
        "\n",
        "    elif any(weather_inquiry in user_input for weather_inquiry in weather_inquiries):\n",
        "        return random.choice(['The weather is sunny today.', 'Looks like rain is expected later.', 'It\\'s currently cloudy.'])\n",
        "\n",
        "    else:\n",
        "        return \"I'm sorry, I don't understand that.\"\n",
        "\n",
        "def main():\n",
        "    print(\"Welcome to the simple chatbot! You can say hello or ask about the weather.\")\n",
        "    while True:\n",
        "        user_input = input(\"You: \")\n",
        "        if user_input.lower() == 'exit':\n",
        "            print(\"Goodbye!\")\n",
        "            break\n",
        "        response = respond_to_user_input(user_input)\n",
        "        print(\"Bot:\", response)\n",
        "\n",
        "if __name__ == \"__main__\":\n",
        "    main()\n"
      ]
    }
  ]
}